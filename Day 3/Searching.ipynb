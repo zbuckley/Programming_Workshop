{
 "cells": [
  {
   "cell_type": "markdown",
   "metadata": {},
   "source": [
    "# Author - Tejasvi Sharma"
   ]
  },
  {
   "cell_type": "markdown",
   "metadata": {},
   "source": [
    "# Linear Search"
   ]
  },
  {
   "cell_type": "code",
   "execution_count": null,
   "metadata": {},
   "outputs": [],
   "source": [
    "#Code for Linear Search\n",
    "li=[2,3,5,6,1,7,10,22,44,100]\n",
    "search=int(input(\"Enter a Search number\"))\n",
    "flag=0\n",
    "for i in li:\n",
    "    if(i==search):\n",
    "        print(\"Value Found\")\n",
    "        flag=1\n",
    "        break\n",
    "if(flag == 0):\n",
    "    print(\"Not Found\")"
   ]
  },
  {
   "cell_type": "markdown",
   "metadata": {},
   "source": [
    "# Binary Search"
   ]
  },
  {
   "cell_type": "code",
   "execution_count": 13,
   "metadata": {},
   "outputs": [
    {
     "name": "stdout",
     "output_type": "stream",
     "text": [
      "Enter a Search number8\n",
      "Not Found\n"
     ]
    }
   ],
   "source": [
    "#Code for Binary Search\n",
    "#Data should be in sorted manner\n",
    "\n",
    "li=[2,3,5,6,7,10,22,44,100]\n",
    "search=int(input(\"Enter a Search number\"))\n",
    "flag=0\n",
    "first=0\n",
    "last=len(li)\n",
    "m=(first+last)//2\n",
    "while(last>=first):\n",
    "    \n",
    "    if(li[m]==search):\n",
    "        print(\"Value Found\")\n",
    "        flag=1\n",
    "        break\n",
    "    elif(li[m]>search):\n",
    "        last=m-1\n",
    "    else:\n",
    "        first=m+1\n",
    "        \n",
    "    m=(first+last)//2\n",
    "\n",
    "if(flag == 0):\n",
    "    print(\"Not Found\")"
   ]
  },
  {
   "cell_type": "code",
   "execution_count": null,
   "metadata": {},
   "outputs": [],
   "source": []
  }
 ],
 "metadata": {
  "kernelspec": {
   "display_name": "Python 3",
   "language": "python",
   "name": "python3"
  },
  "language_info": {
   "codemirror_mode": {
    "name": "ipython",
    "version": 3
   },
   "file_extension": ".py",
   "mimetype": "text/x-python",
   "name": "python",
   "nbconvert_exporter": "python",
   "pygments_lexer": "ipython3",
   "version": "3.6.4"
  }
 },
 "nbformat": 4,
 "nbformat_minor": 2
}
