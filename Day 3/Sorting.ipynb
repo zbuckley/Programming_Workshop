{
 "cells": [
  {
   "cell_type": "markdown",
   "metadata": {},
   "source": [
    "# Author - Tejasvi Sharma"
   ]
  },
  {
   "cell_type": "markdown",
   "metadata": {},
   "source": [
    "# Selection Sort"
   ]
  },
  {
   "cell_type": "code",
   "execution_count": 1,
   "metadata": {},
   "outputs": [],
   "source": [
    "#explain time complexity\n",
    "li=[7,8,1,3,2,5,6,3]"
   ]
  },
  {
   "cell_type": "code",
   "execution_count": 2,
   "metadata": {},
   "outputs": [],
   "source": [
    "#code for selection sort\n",
    "sel=0\n",
    "for i in range(0,len(li)-1):\n",
    "    sel=i\n",
    "    for j in range(i+1,len(li)):\n",
    "        if(li[sel]>li[j]):\n",
    "            sel=j\n",
    "    temp=li[sel]\n",
    "    li[sel]=li[i]\n",
    "    li[i]=temp"
   ]
  },
  {
   "cell_type": "code",
   "execution_count": 3,
   "metadata": {},
   "outputs": [
    {
     "name": "stdout",
     "output_type": "stream",
     "text": [
      "Results of Selection Sort\n",
      "[1, 2, 3, 3, 5, 6, 7, 8]\n"
     ]
    }
   ],
   "source": [
    "print(\"Results of Selection Sort\")\n",
    "\n",
    "print(li)"
   ]
  },
  {
   "cell_type": "markdown",
   "metadata": {},
   "source": [
    "# Bubble Sorting"
   ]
  },
  {
   "cell_type": "code",
   "execution_count": 4,
   "metadata": {},
   "outputs": [
    {
     "name": "stdout",
     "output_type": "stream",
     "text": [
      "Result of Bubble Sort\n",
      "[1, 2, 3, 3, 5, 6, 7, 8]\n"
     ]
    }
   ],
   "source": [
    "#Code for bubble sort\n",
    "li=[7,8,1,3,2,5,6,3]\n",
    "for i in range(0,len(li)-1):\n",
    "    for j in range(0,len(li)-1):\n",
    "        if(li[j]>li[j+1]):\n",
    "            temp=li[j]\n",
    "            li[j]=li[j+1]\n",
    "            li[j+1]=temp    \n",
    "    \n",
    "print(\"Result of Bubble Sort\")\n",
    "print(li)"
   ]
  },
  {
   "cell_type": "code",
   "execution_count": 5,
   "metadata": {},
   "outputs": [],
   "source": [
    "#Second method with enhancement, to reduce complexity(time complexity)"
   ]
  },
  {
   "cell_type": "code",
   "execution_count": 6,
   "metadata": {},
   "outputs": [
    {
     "name": "stdout",
     "output_type": "stream",
     "text": [
      "Result of Bubble Sort\n",
      "[1, 2, 3, 3, 5, 6, 7, 8]\n"
     ]
    }
   ],
   "source": [
    "li=[7,8,1,3,2,5,6,3]\n",
    "for i in range(0,len(li)-1):\n",
    "    count=0\n",
    "    for j in range(0,len(li)-1):\n",
    "        if(li[j]>li[j+1]):\n",
    "            temp=li[j]\n",
    "            li[j]=li[j+1]\n",
    "            li[j+1]=temp\n",
    "            count=count+1\n",
    "    if(count==0):\n",
    "        break\n",
    "    \n",
    "print(\"Result of Bubble Sort\")\n",
    "print(li)"
   ]
  },
  {
   "cell_type": "code",
   "execution_count": null,
   "metadata": {},
   "outputs": [],
   "source": []
  }
 ],
 "metadata": {
  "kernelspec": {
   "display_name": "Python 3",
   "language": "python",
   "name": "python3"
  },
  "language_info": {
   "codemirror_mode": {
    "name": "ipython",
    "version": 3
   },
   "file_extension": ".py",
   "mimetype": "text/x-python",
   "name": "python",
   "nbconvert_exporter": "python",
   "pygments_lexer": "ipython3",
   "version": "3.6.4"
  }
 },
 "nbformat": 4,
 "nbformat_minor": 2
}
