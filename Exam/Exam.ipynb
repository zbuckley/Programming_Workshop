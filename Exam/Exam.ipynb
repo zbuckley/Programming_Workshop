{
 "cells": [
  {
   "cell_type": "markdown",
   "metadata": {},
   "source": [
    "<h1 align=\"center\"> \n",
    "Programming Workshop 2018, Python Exam\n",
    "</h1>\n",
    "\n",
    "<h3 align=\"center\"> \n",
    "Data Science @ George Washington University\n",
    "</h3>"
   ]
  },
  {
   "cell_type": "markdown",
   "metadata": {},
   "source": [
    "## Note\n",
    "- Implement the parts denoted by # Implement me.\n",
    "- We expect you to follow a reasonable programming style. While we do not mandate a specific style, we require that your code to be neat, clear, **documented/commented** and above all consistent.\n",
    "- For in-class exam, **marks will be deducted if the above requirements are not followed.**"
   ]
  },
  {
   "cell_type": "markdown",
   "metadata": {},
   "source": [
    "## Part 1:List and Dictionary\n",
    "- Numpy cannot be used for implementing the functions in this section"
   ]
  },
  {
   "cell_type": "markdown",
   "metadata": {},
   "source": [
    "Question 1: Write a function to find count of every word occuring in a list.\n",
    "\n",
    "\n",
    "Example : \n",
    "          \n",
    "          Input list -> [\"Bob\",\"Jonny\",\"Bob\",\"Max\"]\n",
    "          Output: Bob count: 2\n",
    "                  Jonny count: 1\n",
    "                  Max count:1"
   ]
  },
  {
   "cell_type": "markdown",
   "metadata": {},
   "source": [
    "### 1.1 Implement the function"
   ]
  },
  {
   "cell_type": "code",
   "execution_count": 1,
   "metadata": {},
   "outputs": [],
   "source": [
    "def word_count(li):\n",
    "    \"\"\"\n",
    "    Print the count of every word in the list.\n",
    "    \n",
    "    Parameters\n",
    "    ----------\n",
    "    li : the input list\n",
    "    \n",
    "    Returns\n",
    "    ----------\n",
    "    Print the ouput in the format specified in the question\n",
    "    \"\"\"\n",
    "    "
   ]
  },
  {
   "cell_type": "markdown",
   "metadata": {},
   "source": [
    "### 1.1 Test the function"
   ]
  },
  {
   "cell_type": "code",
   "execution_count": 2,
   "metadata": {},
   "outputs": [
    {
     "name": "stdout",
     "output_type": "stream",
     "text": [
      "Output of List1 \n",
      "\n",
      "Bob count: 2\n",
      "Jonny count: 1\n",
      "Max count: 1\n",
      "\n",
      "Output of List2 \n",
      "\n",
      "Jimmy count: 2\n",
      "George count: 2\n",
      "Max count: 1\n"
     ]
    }
   ],
   "source": [
    "list1 = [\"Bob\",\"Jonny\",\"Bob\",\"Max\"]\n",
    "list2= [\"Jimmy\",\"George\",\"Max\",\"George\",\"Jimmy\"]\n",
    "print(\"Output of List1 \\n\")\n",
    "word_count(list1)\n",
    "print(\"\\nOutput of List2 \\n\")\n",
    "word_count(list2)"
   ]
  },
  {
   "cell_type": "markdown",
   "metadata": {},
   "source": [
    "## Part 2: Conditionals"
   ]
  },
  {
   "cell_type": "markdown",
   "metadata": {},
   "source": [
    "Question 2 :\n",
    "\n",
    "Write a python function to input electricity unit charges and calculate total electricity bill according to the given condition:\n",
    "\n",
    "For first 70 units Rs. 0.50/unit\n",
    "\n",
    "For next 150 units Rs. 0.75/unit\n",
    "\n",
    "For next 250 units Rs. 1.20/unit\n",
    "\n",
    "For unit above 470 Rs. 1.50/unit\n",
    "\n",
    "An additional surcharge of 20% is added to the bill"
   ]
  },
  {
   "cell_type": "markdown",
   "metadata": {},
   "source": [
    "### 2.1 Implement the function"
   ]
  },
  {
   "cell_type": "code",
   "execution_count": 3,
   "metadata": {},
   "outputs": [],
   "source": [
    "def total_bill(units):\n",
    "    \"\"\"\n",
    "    Calculate the total electricity bill.\n",
    "    \n",
    "    Parameters\n",
    "    ----------\n",
    "    units : unit charge\n",
    "    \n",
    "    Returns\n",
    "    ----------\n",
    "    Print the total electricity bill.\n",
    "    \n",
    "    \"\"\""
   ]
  },
  {
   "cell_type": "markdown",
   "metadata": {},
   "source": [
    "### 2.1 Test the function"
   ]
  },
  {
   "cell_type": "code",
   "execution_count": 4,
   "metadata": {},
   "outputs": [
    {
     "name": "stdout",
     "output_type": "stream",
     "text": [
      "Output of unit1\n",
      "\n",
      "Total bill= 114.0\n",
      "\n",
      "Output of unit2\n",
      "\n",
      "Total bill= 292.2\n"
     ]
    }
   ],
   "source": [
    "unit1=150\n",
    "unit2=300\n",
    "\n",
    "print(\"Output of unit1\\n\")\n",
    "total_bill(unit1)\n",
    "print(\"\\nOutput of unit2\\n\")\n",
    "total_bill(unit2)"
   ]
  },
  {
   "cell_type": "markdown",
   "metadata": {},
   "source": [
    "## Part 3: Loops"
   ]
  },
  {
   "cell_type": "markdown",
   "metadata": {},
   "source": [
    "Question 3: Write a function to find sum of right diagonal in a matrix.\n",
    "\n",
    "Example: \n",
    "\n",
    "        Given matrix\n",
    "            1 2 3\n",
    "            4 5 6\n",
    "            7 8 9\n",
    "            \n",
    "            Sum= 3+5+7 = 15\n",
    "            "
   ]
  },
  {
   "cell_type": "markdown",
   "metadata": {},
   "source": [
    "### 3.1 Implement the function"
   ]
  },
  {
   "cell_type": "code",
   "execution_count": 5,
   "metadata": {},
   "outputs": [],
   "source": [
    "def diagonal_sum(mat):\n",
    "    \"\"\"\n",
    "    Calculate the sum of right diagonal\n",
    "    \n",
    "    Parameters\n",
    "    ----------\n",
    "    mat : matrix as input\n",
    "    \n",
    "    Returns\n",
    "    ----------\n",
    "    Print the sum of right diagonal\n",
    "    \n",
    "    \"\"\""
   ]
  },
  {
   "cell_type": "markdown",
   "metadata": {},
   "source": [
    "### 3.1 Test the function"
   ]
  },
  {
   "cell_type": "code",
   "execution_count": 6,
   "metadata": {},
   "outputs": [
    {
     "name": "stdout",
     "output_type": "stream",
     "text": [
      "Output of matrix 1\n",
      "\n",
      "Sum=  15\n",
      "\n",
      "Output of matrix 2\n",
      "\n",
      "Sum=  198\n"
     ]
    }
   ],
   "source": [
    "mat1=[[1,2,3],[4,5,6],[7,8,9]]\n",
    "mat2=[[22,33,44],[55,66,77],[88,99,110]]\n",
    "print(\"Output of matrix 1\\n\")\n",
    "diagonal_sum(mat1)\n",
    "print(\"\\nOutput of matrix 2\\n\")\n",
    "diagonal_sum(mat2)"
   ]
  },
  {
   "cell_type": "markdown",
   "metadata": {},
   "source": [
    "Question 4: Write a function to accept to numbers(x,y), calculate x^y without using any functions. The function returns the result.\n",
    "\n",
    "       Example \n",
    "            x=10, y=2\n",
    "            Function returns 100\n",
    "   \n",
    "        "
   ]
  },
  {
   "cell_type": "markdown",
   "metadata": {},
   "source": [
    "### 3.2 Implement the function"
   ]
  },
  {
   "cell_type": "code",
   "execution_count": 7,
   "metadata": {},
   "outputs": [],
   "source": [
    "def power(x,y):\n",
    "    \"\"\"\n",
    "    Calculate x^y\n",
    "    \n",
    "    Parameters\n",
    "    ----------\n",
    "    x: integer \n",
    "    y: integer\n",
    "    \n",
    "    Returns\n",
    "    ----------\n",
    "    return the value of x to the power y\n",
    "    \n",
    "    \"\"\"\n",
    "\n",
    "    "
   ]
  },
  {
   "cell_type": "markdown",
   "metadata": {},
   "source": [
    "### 3.2 Test the function"
   ]
  },
  {
   "cell_type": "code",
   "execution_count": 8,
   "metadata": {},
   "outputs": [
    {
     "name": "stdout",
     "output_type": "stream",
     "text": [
      "Output of x1,y1\n",
      "\n",
      "100\n",
      "\n",
      "Output of x2,y2\n",
      "\n",
      "1331\n"
     ]
    }
   ],
   "source": [
    "x1,y1=10,2\n",
    "x2,y2=11,3\n",
    "\n",
    "print(\"Output of x1,y1\\n\")\n",
    "print(power(x1,y1))\n",
    "print(\"\\nOutput of x2,y2\\n\")\n",
    "print(power(x2,y2))"
   ]
  },
  {
   "cell_type": "markdown",
   "metadata": {},
   "source": [
    "## Part 4: Class"
   ]
  },
  {
   "cell_type": "markdown",
   "metadata": {},
   "source": [
    "Question 5: Create a class Student, which takes marks of three subjects(Physics, Chemistry and Mathematics).\n",
    "\n",
    "        Functions in Class: 1) Function show() to show marks of the Student for different subjects.\n",
    "                            2) Function percentage() to calculate percentage marks obtained over three subjects.\n",
    "                            3) Function Grade() to show grade of the student.\n",
    "                                    Percentage >= 90% : Grade\n",
    "                                    Percentage >= 80% : Grade B\n",
    "                                    Percentage >= 70% : Grade C\n",
    "                                    Percentage >= 60% : Grade D\n",
    "                                    Percentage >= 40% : Grade E\n",
    "                                    Percentage < 40% : Grade F\n",
    "                                    \n",
    "        Create object of the class and call the functions of the class.\n",
    "                                "
   ]
  },
  {
   "cell_type": "markdown",
   "metadata": {},
   "source": [
    "### 4.1 Implement the class Student"
   ]
  },
  {
   "cell_type": "code",
   "execution_count": 9,
   "metadata": {},
   "outputs": [],
   "source": [
    "#implement the class Student with attributes and functions"
   ]
  },
  {
   "cell_type": "markdown",
   "metadata": {},
   "source": [
    "### 4.2 Test it"
   ]
  },
  {
   "cell_type": "code",
   "execution_count": 10,
   "metadata": {},
   "outputs": [
    {
     "name": "stdout",
     "output_type": "stream",
     "text": [
      "Physics marks is 60, Mathematics marks is 80, Chemistry marks is70\n",
      "70.0\n",
      "Grade C\n"
     ]
    }
   ],
   "source": [
    "obj_a=Student(60,70,80)\n",
    "obj_a.show()\n",
    "print(obj_a.percentage())\n",
    "obj_a.grades()"
   ]
  },
  {
   "cell_type": "code",
   "execution_count": null,
   "metadata": {},
   "outputs": [],
   "source": []
  }
 ],
 "metadata": {
  "kernelspec": {
   "display_name": "Python 3",
   "language": "python",
   "name": "python3"
  },
  "language_info": {
   "codemirror_mode": {
    "name": "ipython",
    "version": 3
   },
   "file_extension": ".py",
   "mimetype": "text/x-python",
   "name": "python",
   "nbconvert_exporter": "python",
   "pygments_lexer": "ipython3",
   "version": "3.6.4"
  }
 },
 "nbformat": 4,
 "nbformat_minor": 2
}
