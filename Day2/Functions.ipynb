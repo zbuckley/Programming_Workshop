{
 "cells": [
  {
   "cell_type": "markdown",
   "metadata": {},
   "source": [
    "# Author - Tejasvi Sharma\n",
    "\n",
    "Data Science Student, George Washington University"
   ]
  },
  {
   "cell_type": "markdown",
   "metadata": {},
   "source": [
    "# Functions\n",
    "\n",
    "A function is a block of organized, reusable code that is used to perform a single, related action. \n",
    "\n",
    "Functions provide better modularity for your application and a high degree of code reusing.\n",
    "\n",
    "Python has inbuilt functions like print but we can also create our own functions called user defined functions."
   ]
  },
  {
   "cell_type": "code",
   "execution_count": 3,
   "metadata": {},
   "outputs": [
    {
     "name": "stdout",
     "output_type": "stream",
     "text": [
      "Function Argument 1\n"
     ]
    }
   ],
   "source": [
    "#Example of function\n",
    "#functions in python start with reserved word def\n",
    "\n",
    "def func(arg1): #function definition\n",
    "    print(arg1)\n",
    "    \n",
    "func(\"Function Argument 1\") #calling a function"
   ]
  },
  {
   "cell_type": "markdown",
   "metadata": {},
   "source": [
    "# Call By Value vs Call By Reference\n",
    "\n",
    "In python all the arguments are call by reference.\n",
    "\n",
    "Explain with an example on board\n",
    "\n"
   ]
  },
  {
   "cell_type": "code",
   "execution_count": 8,
   "metadata": {},
   "outputs": [],
   "source": [
    "#Return Keyword , show and explain examples"
   ]
  },
  {
   "cell_type": "code",
   "execution_count": 14,
   "metadata": {},
   "outputs": [
    {
     "name": "stdout",
     "output_type": "stream",
     "text": [
      "Value of b before function call  2\n",
      "Value of b after function call  2\n"
     ]
    }
   ],
   "source": [
    "#return example\n",
    "def func1(arg1):\n",
    "    arg1=arg1+40\n",
    "    return(arg1)\n",
    "\n",
    "b=2\n",
    "print(\"Value of b before function call \",b)\n",
    "func1(b)\n",
    "print(\"Value of b after function call \",b)"
   ]
  },
  {
   "cell_type": "code",
   "execution_count": 15,
   "metadata": {},
   "outputs": [
    {
     "name": "stdout",
     "output_type": "stream",
     "text": [
      "List before function call  [4, 5, 6, 7]\n",
      "List After function call  [10, 5, 6, 7]\n"
     ]
    }
   ],
   "source": [
    "#Example Call By Reference\n",
    "li=[4,5,6,7]\n",
    "def func2(arg_list):\n",
    "    arg_list[0]=10\n",
    "\n",
    "print(\"List before function call \",li)\n",
    "func2(li)\n",
    "print(\"List After function call \",li)"
   ]
  },
  {
   "cell_type": "markdown",
   "metadata": {},
   "source": [
    "# Function Questions"
   ]
  },
  {
   "cell_type": "markdown",
   "metadata": {},
   "source": [
    "Question 1: Write a function which accepts two numbers and find LCM.\n",
    "\n",
    "Example 1:\n",
    "\n",
    "    Input: 2,4\n",
    "    \n",
    "    Output: 2\n",
    "    \n",
    "Example 2:\n",
    "\n",
    "    Input: 4,8\n",
    "    \n",
    "    Output: 4\n",
    "    "
   ]
  },
  {
   "cell_type": "code",
   "execution_count": 1,
   "metadata": {},
   "outputs": [],
   "source": [
    "#solution\n",
    "#To do"
   ]
  },
  {
   "cell_type": "markdown",
   "metadata": {},
   "source": [
    "Question 2: Write a function to accept two strings and concatenate them.\n",
    "\n",
    "Example 1:\n",
    "\n",
    "    Input: First String: \"This is\"\n",
    "           Second String: \" a String\"\n",
    "           \n",
    "    Output: \"This is a String\""
   ]
  },
  {
   "cell_type": "code",
   "execution_count": 3,
   "metadata": {},
   "outputs": [],
   "source": [
    "#Solution\n",
    "#To do"
   ]
  },
  {
   "cell_type": "markdown",
   "metadata": {},
   "source": [
    "# Function Overloading"
   ]
  },
  {
   "cell_type": "code",
   "execution_count": 5,
   "metadata": {},
   "outputs": [],
   "source": [
    "#Function is a way by which two or more function can have same name but different arguments.\n",
    "#python doesn't support function overloading or method overloading."
   ]
  },
  {
   "cell_type": "code",
   "execution_count": 7,
   "metadata": {},
   "outputs": [],
   "source": [
    "#Example\n",
    "#function returns sum of three numbers\n",
    "def func1(a,b):\n",
    "    return(a+b)\n",
    "\n",
    "def func1(a,b,c):\n",
    "    return(a+b+c)"
   ]
  },
  {
   "cell_type": "code",
   "execution_count": 11,
   "metadata": {},
   "outputs": [
    {
     "data": {
      "text/plain": [
       "6"
      ]
     },
     "execution_count": 11,
     "metadata": {},
     "output_type": "execute_result"
    }
   ],
   "source": [
    "#func1(1,2) #calling the function with only two arguments will give error.\n",
    "func1(1,2,3)\n",
    "\n",
    "#in languages like java, we can use both the functions"
   ]
  },
  {
   "cell_type": "markdown",
   "metadata": {},
   "source": [
    "Question 3: Write a function to print pattern.\n",
    "    \n",
    "    54321\n",
    "    5432\n",
    "    543\n",
    "    54\n",
    "    5\n",
    "    "
   ]
  },
  {
   "cell_type": "code",
   "execution_count": 12,
   "metadata": {},
   "outputs": [],
   "source": [
    "#Solution\n",
    "#To do"
   ]
  },
  {
   "cell_type": "markdown",
   "metadata": {},
   "source": [
    "Question 4: Write a function to print table of a given number."
   ]
  },
  {
   "cell_type": "code",
   "execution_count": 15,
   "metadata": {},
   "outputs": [],
   "source": [
    "#Solution\n",
    "#To Do"
   ]
  },
  {
   "cell_type": "markdown",
   "metadata": {},
   "source": [
    "# Variable Arguments"
   ]
  },
  {
   "cell_type": "code",
   "execution_count": 12,
   "metadata": {},
   "outputs": [
    {
     "name": "stdout",
     "output_type": "stream",
     "text": [
      "first argument : Hello\n",
      "Next argument through *argv : Welcome\n",
      "Next argument through *argv : to\n",
      "Next argument through *argv : GeeksforGeeks\n"
     ]
    }
   ],
   "source": [
    "# Python program to illustrate \n",
    "# *args , with this we can pass variable number of arguments\n",
    "def testify(arg1, *argv):\n",
    "    print(\"first argument :\", arg1)\n",
    "    for arg in argv:\n",
    "        print(\"Next argument through *argv :\", arg)\n",
    "\n",
    "testify('Hello', 'Welcome', 'to', 'GeeksforGeeks')"
   ]
  },
  {
   "cell_type": "code",
   "execution_count": 17,
   "metadata": {},
   "outputs": [
    {
     "name": "stdout",
     "output_type": "stream",
     "text": [
      "Key1 == value1\n",
      "Key2 == value2\n"
     ]
    }
   ],
   "source": [
    "#Using kwargs we can pass variable argumengts like a dict\n",
    "def hello(**kwargs):\n",
    "    if kwargs is not None:\n",
    "        for key, value in kwargs.items():\n",
    "            print(\"%s == %s\" %(key, value))\n",
    "            \n",
    "hello(Key1=\"value1\",Key2=\"value2\")\n"
   ]
  },
  {
   "cell_type": "markdown",
   "metadata": {},
   "source": [
    "# Scope of Variable"
   ]
  },
  {
   "cell_type": "code",
   "execution_count": 5,
   "metadata": {},
   "outputs": [
    {
     "name": "stdout",
     "output_type": "stream",
     "text": [
      "George Washington University\n",
      "This is a String\n",
      "This is a String\n"
     ]
    }
   ],
   "source": [
    "# This function uses global variable s\n",
    "# Global scope\n",
    "s = \"George Washington University\"\n",
    "def f(): \n",
    "    # Local Scope\n",
    "    #global s #to use global varibale\n",
    "    s=\"This is a String\"\n",
    "    print(s)\n",
    "\n",
    "print(s)\n",
    "f()\n",
    "print(s)"
   ]
  },
  {
   "cell_type": "markdown",
   "metadata": {},
   "source": [
    "# Default value of an argument"
   ]
  },
  {
   "cell_type": "code",
   "execution_count": 8,
   "metadata": {},
   "outputs": [
    {
     "name": "stdout",
     "output_type": "stream",
     "text": [
      "Output\n",
      "1 3\n",
      "Output\n",
      "2 5\n"
     ]
    }
   ],
   "source": [
    "#Setting default values in a python function\n",
    "def f(a=2,b=5):\n",
    "    print(a,b)\n",
    "\n",
    "print(\"Output\")\n",
    "f(1,3)\n",
    "print(\"Output\")\n",
    "f()"
   ]
  },
  {
   "cell_type": "code",
   "execution_count": null,
   "metadata": {},
   "outputs": [],
   "source": []
  }
 ],
 "metadata": {
  "kernelspec": {
   "display_name": "Python 3",
   "language": "python",
   "name": "python3"
  },
  "language_info": {
   "codemirror_mode": {
    "name": "ipython",
    "version": 3
   },
   "file_extension": ".py",
   "mimetype": "text/x-python",
   "name": "python",
   "nbconvert_exporter": "python",
   "pygments_lexer": "ipython3",
   "version": "3.6.4"
  }
 },
 "nbformat": 4,
 "nbformat_minor": 2
}
