{
 "cells": [
  {
   "cell_type": "markdown",
   "metadata": {},
   "source": [
    "References - https://www.javatpoint.com/python-oops-concepts\n",
    "             https://realpython.com/python3-object-oriented-programming/"
   ]
  },
  {
   "cell_type": "markdown",
   "metadata": {},
   "source": [
    "<h1>Python OOPs Concepts</h1>\n",
    "\n",
    "Python is an object-oriented programming language. It allows us to develop applications using Object Oriented approach. In Python, we can easily create and use classes and objects.\n",
    "\n",
    "Major principles of object-oriented programming system are given below\n",
    "\n",
    "    1)Object\n",
    "    2)Class\n",
    "    3)Method\n",
    "    4)Inheritance\n",
    "    5)Polymorphism\n",
    "    6)Data Abstraction\n",
    "    7)Encapsulation\n",
    "\n",
    "<h3>Object</h3>\n",
    "\n",
    "Object is an entity that has state and behavior. It may be anything. It may be physical and logical. For example: mouse, keyboard, chair, table, pen etc.\n",
    "\n",
    "Everything in Python is an object, and almost everything has attributes and methods. All functions have a built-in attribute __doc__, which returns the doc string defined in the function source code.\n",
    "\n",
    "<h3>Class</h3>\n",
    "\n",
    "Class can be defined as a collection of objects. It is a logical entity that has some specific attributes and methods. For example: if you have an employee class then it should contain an attribute and method i.e. an email id, name, age, salary etc.\n",
    "\n",
    "Syntax:\n",
    "\n",
    "    class ClassName:  \n",
    "        <statement-1>  \n",
    "        .  \n",
    "        .  \n",
    "        .  \n",
    "        <statement-N>  \n",
    "\n",
    "<h3>Method</h3>\n",
    "\n",
    "Method is a function that is associated with an object. In Python, method is not unique to class instances. Any object type can have methods.\n",
    "\n",
    "<h3>Inheritance</h3>\n",
    "\n",
    "Inheritance is a feature of object-oriented programming. It specifies that one object acquires all the properties and behaviors of parent object. By using inheritance you can define a new class with a little or no changes to the existing class. The new class is known as derived class or child class and from which it inherits the properties is called base class or parent class.\n",
    "\n",
    "It provides re-usability of the code.\n",
    "\n",
    "<h3>Polymorphism</h3>\n",
    "\n",
    "Polymorphism is made by two words \"poly\" and \"morphs\". Poly means many and Morphs means form, shape. It defines that one task can be performed in different ways. For example: You have a class animal and all animals talk. But they talk differently. Here, the \"talk\" behavior is polymorphic in the sense and totally depends on the animal. So, the abstract \"animal\" concept does not actually \"talk\", but specific animals (like dogs and cats) have a concrete implementation of the action \"talk\".\n",
    "\n",
    "<h3>Encapsulation</h3>\n",
    "\n",
    "Encapsulation is also the feature of object-oriented programming. It is used to restrict access to methods and variables. In encapsulation, code and data are wrapped together within a single unit from being modified by accident.\n",
    "\n",
    "<h3>Data Abstraction</h3>\n",
    "\n",
    "Data abstraction and encapsulation both are often used as synonyms. Both are nearly synonym because data abstraction is achieved through encapsulation.\n",
    "\n",
    "Abstraction is used to hide internal details and show only functionalities. Abstracting something means to give names to things, so that the name captures the core of what a function or a whole program does."
   ]
  },
  {
   "cell_type": "markdown",
   "metadata": {},
   "source": [
    "<h2>Define a class</h2>"
   ]
  },
  {
   "cell_type": "code",
   "execution_count": 6,
   "metadata": {},
   "outputs": [],
   "source": [
    "#Example Defining a class\n",
    "class Dog:\n",
    "    pass"
   ]
  },
  {
   "cell_type": "code",
   "execution_count": 7,
   "metadata": {},
   "outputs": [
    {
     "data": {
      "text/plain": [
       "<__main__.Dog at 0x5a185d0>"
      ]
     },
     "execution_count": 7,
     "metadata": {},
     "output_type": "execute_result"
    }
   ],
   "source": [
    "#creating object of class Dog\n",
    "Dog()"
   ]
  },
  {
   "cell_type": "markdown",
   "metadata": {},
   "source": [
    "<h3>Instance Attributes</h3>\n",
    "\n",
    "All classes create objects, and all objects contain characteristics called attributes (referred to as properties in \n",
    "the opening paragraph). Use the __init__() method to initialize (e.g., specify) an object’s initial attributes by \n",
    "giving them their default value (or state). This method must have at least one argument as well as the self variable, \n",
    "which refers to the object itself (e.g., Dog)."
   ]
  },
  {
   "cell_type": "code",
   "execution_count": 8,
   "metadata": {},
   "outputs": [],
   "source": [
    "class Dog:\n",
    "\n",
    "    # Initializer / Instance Attributes\n",
    "    def __init__(self, name, age):\n",
    "        self.name = name\n",
    "        self.age = age"
   ]
  },
  {
   "cell_type": "code",
   "execution_count": 11,
   "metadata": {},
   "outputs": [
    {
     "name": "stdout",
     "output_type": "stream",
     "text": [
      "Jonny\n",
      "12\n"
     ]
    }
   ],
   "source": [
    "#creating objects\n",
    "a=Dog(\"Jonny\",\"12\")\n",
    "print(a.name)\n",
    "print(a.age)"
   ]
  },
  {
   "cell_type": "markdown",
   "metadata": {},
   "source": [
    "<h3>Class Attributes</h3>\n",
    "\n",
    "While instance attributes are specific to each object, class attributes are the same for all instances—which\n",
    "in this case is all dogs."
   ]
  },
  {
   "cell_type": "code",
   "execution_count": 13,
   "metadata": {},
   "outputs": [],
   "source": [
    "class Dog:\n",
    "\n",
    "    species=\"mammal\"\n",
    "    # Initializer / Instance Attributes\n",
    "    def __init__(self, name, age):\n",
    "        self.name = name\n",
    "        self.age = age"
   ]
  },
  {
   "cell_type": "code",
   "execution_count": 16,
   "metadata": {},
   "outputs": [
    {
     "name": "stdout",
     "output_type": "stream",
     "text": [
      "Jonny 5 mammal\n",
      "Bob 6 mammal\n",
      "As species variable is a class attribute, its value is same across different objects\n"
     ]
    }
   ],
   "source": [
    "#creating first object\n",
    "a=Dog(\"Jonny\",\"5\")\n",
    "print(a.name,a.age,a.species)\n",
    "#creating second object\n",
    "b=Dog(\"Bob\",\"6\")\n",
    "print(b.name,b.age,b.species)\n",
    "\n",
    "print(\"As species variable is a class attribute, its value is same across different objects\")"
   ]
  },
  {
   "cell_type": "markdown",
   "metadata": {},
   "source": [
    "<h3>Instance Methods</h3>\n",
    "\n",
    "Instance methods are defined inside a class and are used to get the contents of an instance. They can also be used to perform operations with the attributes of our objects. Like the __init__ method, the first argument is always self:"
   ]
  },
  {
   "cell_type": "code",
   "execution_count": 17,
   "metadata": {},
   "outputs": [
    {
     "name": "stdout",
     "output_type": "stream",
     "text": [
      "Mikey is 6 years old\n",
      "Mikey says Gruff Gruff\n"
     ]
    }
   ],
   "source": [
    "class Dog:\n",
    "\n",
    "    # Class Attribute\n",
    "    species = 'mammal'\n",
    "\n",
    "    # Initializer / Instance Attributes\n",
    "    def __init__(self, name, age):\n",
    "        self.name = name\n",
    "        self.age = age\n",
    "\n",
    "    # instance method\n",
    "    def description(self):\n",
    "        return \"{} is {} years old\".format(self.name, self.age)\n",
    "\n",
    "    # instance method\n",
    "    def speak(self, sound):\n",
    "        return \"{} says {}\".format(self.name, sound)\n",
    "\n",
    "# Instantiate the Dog object\n",
    "mikey = Dog(\"Mikey\", 6)\n",
    "\n",
    "# call our instance methods\n",
    "print(mikey.description())\n",
    "print(mikey.speak(\"Gruff Gruff\"))"
   ]
  },
  {
   "cell_type": "markdown",
   "metadata": {},
   "source": [
    "<h3>Python Object Inheritance</h3>\n",
    "\n",
    "Inheritance is the process by which one class takes on the attributes and methods of another. Newly formed classes are called child classes, and the classes that child classes are derived from are called parent classes.\n",
    "\n",
    "It’s important to note that child classes override or extend the functionality (e.g., attributes and behaviors) of parent classes. In other words, child classes inherit all of the parent’s attributes and behaviors but can also specify different behavior to follow. The most basic type of class is an object, which generally all other classes inherit as their parent"
   ]
  },
  {
   "cell_type": "code",
   "execution_count": 22,
   "metadata": {},
   "outputs": [
    {
     "name": "stdout",
     "output_type": "stream",
     "text": [
      "Jim is 12 years old\n",
      "Jim runs slowly\n"
     ]
    },
    {
     "data": {
      "text/plain": [
       "'jonny runs 20'"
      ]
     },
     "execution_count": 22,
     "metadata": {},
     "output_type": "execute_result"
    }
   ],
   "source": [
    "# Parent class\n",
    "class Dog:\n",
    "\n",
    "    # Class attribute\n",
    "    species = 'mammal'\n",
    "\n",
    "    # Initializer / Instance attributes\n",
    "    def __init__(self, name, age):\n",
    "        self.name = name\n",
    "        self.age = age\n",
    "\n",
    "    # instance method\n",
    "    def description(self):\n",
    "        return \"{} is {} years old\".format(self.name, self.age)\n",
    "\n",
    "    # instance method\n",
    "    def speak(self, sound):\n",
    "        return \"{} says {}\".format(self.name, sound)\n",
    "\n",
    "\n",
    "# Child class (inherits from Dog class)\n",
    "class RussellTerrier(Dog):\n",
    "    def __init__(self,name,age,speed):\n",
    "        super().__init__(name,age)\n",
    "        self.speed=speed\n",
    "    \n",
    "    def run(self):\n",
    "        return \"{} runs {}\".format(self.name, self.speed)\n",
    "\n",
    "\n",
    "# Child class (inherits from Dog class)\n",
    "class Bulldog(Dog):\n",
    "    def run(self, speed):\n",
    "        return \"{} runs {}\".format(self.name, speed)\n",
    "\n",
    "\n",
    "# Child classes inherit attributes and\n",
    "# behaviors from the parent class\n",
    "jim = Bulldog(\"Jim\", 12)\n",
    "print(jim.description())\n",
    "\n",
    "# Child classes have specific attributes\n",
    "# and behaviors as well\n",
    "print(jim.run(\"slowly\"))\n",
    "\n",
    "\n",
    "# RussellTerrier class\n",
    "tim=RussellTerrier(\"jonny\",10,20)\n",
    "tim.run()"
   ]
  },
  {
   "cell_type": "markdown",
   "metadata": {},
   "source": [
    "<h3>Function Overriding</h3>"
   ]
  },
  {
   "cell_type": "code",
   "execution_count": 31,
   "metadata": {},
   "outputs": [],
   "source": [
    "class GermanShephred(Dog):\n",
    "    def __init__(self,name,age,speed):\n",
    "        super().__init__(name,age)\n",
    "        self.speed=speed\n",
    "    #def description(self):\n",
    "    #    print(\"This is function overriding\")\n",
    "    def run(self):\n",
    "        return \"{} runs {}\".format(self.name, self.speed)"
   ]
  },
  {
   "cell_type": "code",
   "execution_count": 32,
   "metadata": {},
   "outputs": [
    {
     "data": {
      "text/plain": [
       "'bob is 10 years old'"
      ]
     },
     "execution_count": 32,
     "metadata": {},
     "output_type": "execute_result"
    }
   ],
   "source": [
    "gs=GermanShephred(\"bob\",10,12)\n",
    "gs.description()\n",
    "#remove comment from the function desciption and run it again."
   ]
  },
  {
   "cell_type": "markdown",
   "metadata": {},
   "source": [
    "Question 1: Write a class with following functions.\n",
    "        \n",
    "        Class Name :- Calculator\n",
    "        Functions: add - \n",
    "                        Input: Two numbers Output: Returns sum of two numbers.\n",
    "                   sub - \n",
    "                        Input: Two numbers Output: Returns difference of two numbers.\n",
    "                   mul - \n",
    "                        Input: Two numbers Output: Returns multiplication of two numbers.\n",
    "                   div - \n",
    "                        Input: Two numbers Output: Returns the division of first number by second."
   ]
  },
  {
   "cell_type": "code",
   "execution_count": null,
   "metadata": {},
   "outputs": [],
   "source": []
  },
  {
   "cell_type": "markdown",
   "metadata": {},
   "source": [
    "Question 2: Write a class Car with attributes and functions.\n",
    "        \n",
    "        Attributes: speed- It stores speed of the car\n",
    "                    \n",
    "        Functions: dist- This function takes in time as input and calculates distance travelled. \n",
    "        \n",
    "                   time - This function takes in distance as input and calculates time taken to travel the distance\n",
    "                   "
   ]
  },
  {
   "cell_type": "code",
   "execution_count": null,
   "metadata": {},
   "outputs": [],
   "source": []
  },
  {
   "cell_type": "markdown",
   "metadata": {},
   "source": [
    "Question 3: Write a class Car with attribute speed.\n",
    "        \n",
    "        Attribute: Speed- It stores speed of the car.\n",
    "        \n",
    "        Write another classes BMW and Audi which inherits the class Car and implements \n",
    "        functions dist and time."
   ]
  },
  {
   "cell_type": "code",
   "execution_count": null,
   "metadata": {},
   "outputs": [],
   "source": []
  },
  {
   "cell_type": "markdown",
   "metadata": {},
   "source": [
    "Question 4: Write a new Class calculator_extension and inherit class Calculator.\n",
    "            Write new functions for addition and mul.\n",
    "            \n",
    "            \n",
    "            Function:\n",
    "                   add - \n",
    "                        Input: Three numbers Output: Returns sum of three numbers.\n",
    "                   mul - \n",
    "                        Input: Three numbers Output: Returns multiplication of three numbers."
   ]
  },
  {
   "cell_type": "code",
   "execution_count": 17,
   "metadata": {},
   "outputs": [],
   "source": [
    "#Data Encapsulation Example- not able to access the attributes from outside the class directly through objects.\n",
    "#Its like private in language java.\n",
    "#use __ before variable name.\n",
    "class Cost:\n",
    "    def __init__(self,a):\n",
    "        self.__ab=a\n",
    "    def print_variable(self):\n",
    "        print(self.__ab)"
   ]
  },
  {
   "cell_type": "code",
   "execution_count": 18,
   "metadata": {},
   "outputs": [
    {
     "name": "stdout",
     "output_type": "stream",
     "text": [
      "10\n"
     ]
    }
   ],
   "source": [
    "#creating object of class cost.\n",
    "b=Cost(10)\n",
    "#accessing variable __ab\n",
    "#b.__ab()\n",
    "#Function call \n",
    "b.print_variable()"
   ]
  },
  {
   "cell_type": "code",
   "execution_count": null,
   "metadata": {},
   "outputs": [],
   "source": []
  }
 ],
 "metadata": {
  "kernelspec": {
   "display_name": "Python 3",
   "language": "python",
   "name": "python3"
  },
  "language_info": {
   "codemirror_mode": {
    "name": "ipython",
    "version": 3
   },
   "file_extension": ".py",
   "mimetype": "text/x-python",
   "name": "python",
   "nbconvert_exporter": "python",
   "pygments_lexer": "ipython3",
   "version": "3.6.4"
  }
 },
 "nbformat": 4,
 "nbformat_minor": 2
}
