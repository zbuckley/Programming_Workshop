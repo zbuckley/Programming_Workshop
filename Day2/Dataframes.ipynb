{
 "cells": [
  {
   "cell_type": "code",
   "execution_count": null,
   "metadata": {},
   "outputs": [],
   "source": [
    "#@author -Tejasvi Sharma"
   ]
  },
  {
   "cell_type": "markdown",
   "metadata": {},
   "source": [
    "<h1>Introduction to pandas</h1>"
   ]
  },
  {
   "cell_type": "code",
   "execution_count": 1,
   "metadata": {},
   "outputs": [
    {
     "name": "stdout",
     "output_type": "stream",
     "text": [
      "0    1.0\n",
      "1    3.0\n",
      "2    5.0\n",
      "3    NaN\n",
      "4    6.0\n",
      "5    8.0\n",
      "dtype: float64\n"
     ]
    }
   ],
   "source": [
    "import pandas as pd\n",
    "import numpy as np\n",
    "\n",
    "s = pd.Series([1,3,5,np.nan,6,8]) # panda\n",
    "print(s)"
   ]
  },
  {
   "cell_type": "code",
   "execution_count": 2,
   "metadata": {},
   "outputs": [
    {
     "name": "stdout",
     "output_type": "stream",
     "text": [
      "                   A         B         C         D\n",
      "2013-01-01  0.054046  0.652180  1.477920  0.014663\n",
      "2013-01-02 -1.191793 -0.908701 -0.404972  1.866800\n",
      "2013-01-03 -0.011661 -1.169125 -0.576973 -0.241492\n",
      "2013-01-04  0.375001 -0.870269 -0.085624 -0.836709\n",
      "2013-01-05  0.007384  0.295479 -1.356988  0.663840\n",
      "2013-01-06  2.289095 -0.826996 -1.363951  0.335466\n"
     ]
    }
   ],
   "source": [
    "#Creating a Dataframe  from numpy array.\n",
    "dates = pd.date_range('20130101', periods=6)\n",
    "df = pd.DataFrame(np.random.randn(6,4), index=dates, columns=list('ABCD'))\n",
    "print(df)"
   ]
  },
  {
   "cell_type": "code",
   "execution_count": 3,
   "metadata": {},
   "outputs": [
    {
     "name": "stdout",
     "output_type": "stream",
     "text": [
      "A           float64\n",
      "B    datetime64[ns]\n",
      "C           float32\n",
      "D             int32\n",
      "E          category\n",
      "F            object\n",
      "dtype: object\n",
      "Index(['A', 'B', 'C', 'D', 'E', 'F'], dtype='object')\n"
     ]
    }
   ],
   "source": [
    "#Creating a Dataframe from dictionary\n",
    "df2 = pd.DataFrame({ 'A' : 1.,\n",
    "                        'B' : pd.Timestamp('20130102'),\n",
    "                        'C' : pd.Series(1,index=list(range(4)),dtype='float32'),\n",
    "                        'D' : np.array([3] * 4,dtype='int32'),\n",
    "                        'E' : pd.Categorical([\"test\",\"train\",\"test\",\"train\"]),\n",
    "                        'F' : 'foo' })\n",
    "\n",
    "#Getting data types of different columns\n",
    "print(df2.dtypes)\n",
    "\n",
    "#Getting column names in a dataframa\n",
    "\n",
    "print(df2.columns)"
   ]
  },
  {
   "cell_type": "code",
   "execution_count": 5,
   "metadata": {},
   "outputs": [
    {
     "name": "stdout",
     "output_type": "stream",
     "text": [
      "     A          B    C  D      E    F\n",
      "0  1.0 2013-01-02  1.0  3   test  foo\n",
      "1  1.0 2013-01-02  1.0  3  train  foo\n",
      "     A          B    C  D      E    F\n",
      "2  1.0 2013-01-02  1.0  3   test  foo\n",
      "3  1.0 2013-01-02  1.0  3  train  foo\n"
     ]
    },
    {
     "data": {
      "text/html": [
       "<div>\n",
       "<style scoped>\n",
       "    .dataframe tbody tr th:only-of-type {\n",
       "        vertical-align: middle;\n",
       "    }\n",
       "\n",
       "    .dataframe tbody tr th {\n",
       "        vertical-align: top;\n",
       "    }\n",
       "\n",
       "    .dataframe thead th {\n",
       "        text-align: right;\n",
       "    }\n",
       "</style>\n",
       "<table border=\"1\" class=\"dataframe\">\n",
       "  <thead>\n",
       "    <tr style=\"text-align: right;\">\n",
       "      <th></th>\n",
       "      <th>A</th>\n",
       "      <th>C</th>\n",
       "      <th>D</th>\n",
       "    </tr>\n",
       "  </thead>\n",
       "  <tbody>\n",
       "    <tr>\n",
       "      <th>count</th>\n",
       "      <td>4.0</td>\n",
       "      <td>4.0</td>\n",
       "      <td>4.0</td>\n",
       "    </tr>\n",
       "    <tr>\n",
       "      <th>mean</th>\n",
       "      <td>1.0</td>\n",
       "      <td>1.0</td>\n",
       "      <td>3.0</td>\n",
       "    </tr>\n",
       "    <tr>\n",
       "      <th>std</th>\n",
       "      <td>0.0</td>\n",
       "      <td>0.0</td>\n",
       "      <td>0.0</td>\n",
       "    </tr>\n",
       "    <tr>\n",
       "      <th>min</th>\n",
       "      <td>1.0</td>\n",
       "      <td>1.0</td>\n",
       "      <td>3.0</td>\n",
       "    </tr>\n",
       "    <tr>\n",
       "      <th>25%</th>\n",
       "      <td>1.0</td>\n",
       "      <td>1.0</td>\n",
       "      <td>3.0</td>\n",
       "    </tr>\n",
       "    <tr>\n",
       "      <th>50%</th>\n",
       "      <td>1.0</td>\n",
       "      <td>1.0</td>\n",
       "      <td>3.0</td>\n",
       "    </tr>\n",
       "    <tr>\n",
       "      <th>75%</th>\n",
       "      <td>1.0</td>\n",
       "      <td>1.0</td>\n",
       "      <td>3.0</td>\n",
       "    </tr>\n",
       "    <tr>\n",
       "      <th>max</th>\n",
       "      <td>1.0</td>\n",
       "      <td>1.0</td>\n",
       "      <td>3.0</td>\n",
       "    </tr>\n",
       "  </tbody>\n",
       "</table>\n",
       "</div>"
      ],
      "text/plain": [
       "         A    C    D\n",
       "count  4.0  4.0  4.0\n",
       "mean   1.0  1.0  3.0\n",
       "std    0.0  0.0  0.0\n",
       "min    1.0  1.0  3.0\n",
       "25%    1.0  1.0  3.0\n",
       "50%    1.0  1.0  3.0\n",
       "75%    1.0  1.0  3.0\n",
       "max    1.0  1.0  3.0"
      ]
     },
     "execution_count": 5,
     "metadata": {},
     "output_type": "execute_result"
    }
   ],
   "source": [
    "#To see a snapshot of data use head or tail, can also specify the number of rows.\n",
    "\n",
    "print(df2.head(2))\n",
    "\n",
    "print(df2.tail(2))\n",
    "\n",
    "#describe function can give a description about a dataframe numeric columns\n",
    "df2.describe()"
   ]
  },
  {
   "cell_type": "code",
   "execution_count": 4,
   "metadata": {},
   "outputs": [
    {
     "data": {
      "text/html": [
       "<div>\n",
       "<style scoped>\n",
       "    .dataframe tbody tr th:only-of-type {\n",
       "        vertical-align: middle;\n",
       "    }\n",
       "\n",
       "    .dataframe tbody tr th {\n",
       "        vertical-align: top;\n",
       "    }\n",
       "\n",
       "    .dataframe thead th {\n",
       "        text-align: right;\n",
       "    }\n",
       "</style>\n",
       "<table border=\"1\" class=\"dataframe\">\n",
       "  <thead>\n",
       "    <tr style=\"text-align: right;\">\n",
       "      <th></th>\n",
       "      <th>0</th>\n",
       "      <th>1</th>\n",
       "      <th>2</th>\n",
       "      <th>3</th>\n",
       "    </tr>\n",
       "  </thead>\n",
       "  <tbody>\n",
       "    <tr>\n",
       "      <th>A</th>\n",
       "      <td>1</td>\n",
       "      <td>1</td>\n",
       "      <td>1</td>\n",
       "      <td>1</td>\n",
       "    </tr>\n",
       "    <tr>\n",
       "      <th>B</th>\n",
       "      <td>2013-01-02 00:00:00</td>\n",
       "      <td>2013-01-02 00:00:00</td>\n",
       "      <td>2013-01-02 00:00:00</td>\n",
       "      <td>2013-01-02 00:00:00</td>\n",
       "    </tr>\n",
       "    <tr>\n",
       "      <th>C</th>\n",
       "      <td>1</td>\n",
       "      <td>1</td>\n",
       "      <td>1</td>\n",
       "      <td>1</td>\n",
       "    </tr>\n",
       "    <tr>\n",
       "      <th>D</th>\n",
       "      <td>3</td>\n",
       "      <td>3</td>\n",
       "      <td>3</td>\n",
       "      <td>3</td>\n",
       "    </tr>\n",
       "    <tr>\n",
       "      <th>E</th>\n",
       "      <td>test</td>\n",
       "      <td>train</td>\n",
       "      <td>test</td>\n",
       "      <td>train</td>\n",
       "    </tr>\n",
       "    <tr>\n",
       "      <th>F</th>\n",
       "      <td>foo</td>\n",
       "      <td>foo</td>\n",
       "      <td>foo</td>\n",
       "      <td>foo</td>\n",
       "    </tr>\n",
       "  </tbody>\n",
       "</table>\n",
       "</div>"
      ],
      "text/plain": [
       "                     0                    1                    2  \\\n",
       "A                    1                    1                    1   \n",
       "B  2013-01-02 00:00:00  2013-01-02 00:00:00  2013-01-02 00:00:00   \n",
       "C                    1                    1                    1   \n",
       "D                    3                    3                    3   \n",
       "E                 test                train                 test   \n",
       "F                  foo                  foo                  foo   \n",
       "\n",
       "                     3  \n",
       "A                    1  \n",
       "B  2013-01-02 00:00:00  \n",
       "C                    1  \n",
       "D                    3  \n",
       "E                train  \n",
       "F                  foo  "
      ]
     },
     "execution_count": 4,
     "metadata": {},
     "output_type": "execute_result"
    }
   ],
   "source": [
    "#traspose a Database like a matrix\n",
    "df2.T"
   ]
  },
  {
   "cell_type": "code",
   "execution_count": 13,
   "metadata": {},
   "outputs": [
    {
     "name": "stdout",
     "output_type": "stream",
     "text": [
      "                   A         B         C         D\n",
      "2013-01-03 -0.011661 -1.169125 -0.576973 -0.241492\n",
      "2013-01-02 -1.191793 -0.908701 -0.404972  1.866800\n",
      "2013-01-04  0.375001 -0.870269 -0.085624 -0.836709\n",
      "2013-01-06  2.289095 -0.826996 -1.363951  0.335466\n",
      "2013-01-05  0.007384  0.295479 -1.356988  0.663840\n",
      "2013-01-01  0.054046  0.652180  1.477920  0.014663\n",
      "                   A         B         C         D\n",
      "2013-01-01  0.054046  0.652180  1.477920  0.014663\n",
      "2013-01-02 -1.191793 -0.908701 -0.404972  1.866800\n",
      "2013-01-03 -0.011661 -1.169125 -0.576973 -0.241492\n",
      "2013-01-04  0.375001 -0.870269 -0.085624 -0.836709\n",
      "2013-01-05  0.007384  0.295479 -1.356988  0.663840\n",
      "2013-01-06  2.289095 -0.826996 -1.363951  0.335466\n",
      "                   A         B         C         D\n",
      "2013-01-06  2.289095 -0.826996 -1.363951  0.335466\n",
      "2013-01-05  0.007384  0.295479 -1.356988  0.663840\n",
      "2013-01-04  0.375001 -0.870269 -0.085624 -0.836709\n",
      "2013-01-03 -0.011661 -1.169125 -0.576973 -0.241492\n",
      "2013-01-02 -1.191793 -0.908701 -0.404972  1.866800\n",
      "2013-01-01  0.054046  0.652180  1.477920  0.014663\n"
     ]
    }
   ],
   "source": [
    "#sorting a Dataframe by column\n",
    "\n",
    "print(df.sort_values(by='B',ascending=True)) #sort by column B\n",
    "#df.sort_values(by='B',ascending=False)\n",
    "print(df.sort_index(ascending=True))\n",
    "print(df.sort_index(ascending=False))"
   ]
  },
  {
   "cell_type": "code",
   "execution_count": 24,
   "metadata": {},
   "outputs": [
    {
     "name": "stdout",
     "output_type": "stream",
     "text": [
      "2013-01-01    0.706346\n",
      "2013-01-02    1.464616\n",
      "2013-01-03   -0.343852\n",
      "2013-01-04   -1.618880\n",
      "2013-01-05   -0.254342\n",
      "2013-01-06   -1.037881\n",
      "Freq: D, Name: A, dtype: float64\n",
      "\n",
      "Slicing\n",
      "                   A         B         C         D\n",
      "2013-01-01  0.706346  0.058741 -0.325617 -0.283842\n",
      "2013-01-02  1.464616  2.088079 -0.202424  0.354482\n",
      "2013-01-03 -0.343852 -0.173197 -0.553692 -0.784880\n",
      "\n",
      "using iloc to get data\n",
      "                   A         B\n",
      "2013-01-01  0.706346  0.058741\n",
      "2013-01-02  1.464616  2.088079\n",
      "2013-01-03 -0.343852 -0.173197\n",
      "\n",
      "using loc to get data\n",
      "                   A         B\n",
      "2013-01-02  1.464616  2.088079\n",
      "2013-01-03 -0.343852 -0.173197\n",
      "2013-01-04 -1.618880  0.215280\n"
     ]
    }
   ],
   "source": [
    "#Accessing data from a DataFrame\n",
    "#getting a column A from a dataframe df, it returns a series\n",
    "print(df['A'])\n",
    "\n",
    "#getting first 3 rows from a DataFrame, using slicing\n",
    "print(\"\\n\"+\"Slicing\")\n",
    "print(df[0:3]) \n",
    "#To slice both rows and column use iloc\n",
    "print(\"\\n\"+\"using iloc to get data\")\n",
    "print(df.iloc[0:3,0:2])\n",
    "#To slice using labels use loc\n",
    "print(\"\\n\"+\"using loc to get data\")\n",
    "print(df.loc['20130102':'20130104',['A','B']])"
   ]
  },
  {
   "cell_type": "code",
   "execution_count": 25,
   "metadata": {},
   "outputs": [
    {
     "data": {
      "text/plain": [
       "2.0880793104879554"
      ]
     },
     "execution_count": 25,
     "metadata": {},
     "output_type": "execute_result"
    }
   ],
   "source": [
    "#Getting a specific value from a dataframe\n",
    "#use function iat\n",
    "df.iat[1,1]"
   ]
  },
  {
   "cell_type": "code",
   "execution_count": 28,
   "metadata": {},
   "outputs": [
    {
     "data": {
      "text/html": [
       "<div>\n",
       "<style scoped>\n",
       "    .dataframe tbody tr th:only-of-type {\n",
       "        vertical-align: middle;\n",
       "    }\n",
       "\n",
       "    .dataframe tbody tr th {\n",
       "        vertical-align: top;\n",
       "    }\n",
       "\n",
       "    .dataframe thead th {\n",
       "        text-align: right;\n",
       "    }\n",
       "</style>\n",
       "<table border=\"1\" class=\"dataframe\">\n",
       "  <thead>\n",
       "    <tr style=\"text-align: right;\">\n",
       "      <th></th>\n",
       "      <th>A</th>\n",
       "      <th>B</th>\n",
       "      <th>C</th>\n",
       "      <th>D</th>\n",
       "    </tr>\n",
       "  </thead>\n",
       "  <tbody>\n",
       "    <tr>\n",
       "      <th>2013-01-01</th>\n",
       "      <td>0.706346</td>\n",
       "      <td>0.058741</td>\n",
       "      <td>-0.325617</td>\n",
       "      <td>-0.283842</td>\n",
       "    </tr>\n",
       "    <tr>\n",
       "      <th>2013-01-02</th>\n",
       "      <td>1.464616</td>\n",
       "      <td>2.088079</td>\n",
       "      <td>-0.202424</td>\n",
       "      <td>0.354482</td>\n",
       "    </tr>\n",
       "    <tr>\n",
       "      <th>2013-01-03</th>\n",
       "      <td>-0.343852</td>\n",
       "      <td>-0.173197</td>\n",
       "      <td>-0.553692</td>\n",
       "      <td>-0.784880</td>\n",
       "    </tr>\n",
       "    <tr>\n",
       "      <th>2013-01-04</th>\n",
       "      <td>-1.618880</td>\n",
       "      <td>0.215280</td>\n",
       "      <td>0.514721</td>\n",
       "      <td>0.620356</td>\n",
       "    </tr>\n",
       "    <tr>\n",
       "      <th>2013-01-05</th>\n",
       "      <td>-0.254342</td>\n",
       "      <td>0.014589</td>\n",
       "      <td>-0.369575</td>\n",
       "      <td>0.578745</td>\n",
       "    </tr>\n",
       "    <tr>\n",
       "      <th>2013-01-06</th>\n",
       "      <td>-1.037881</td>\n",
       "      <td>-0.234445</td>\n",
       "      <td>-1.384228</td>\n",
       "      <td>0.772879</td>\n",
       "    </tr>\n",
       "  </tbody>\n",
       "</table>\n",
       "</div>"
      ],
      "text/plain": [
       "                   A         B         C         D\n",
       "2013-01-01  0.706346  0.058741 -0.325617 -0.283842\n",
       "2013-01-02  1.464616  2.088079 -0.202424  0.354482\n",
       "2013-01-03 -0.343852 -0.173197 -0.553692 -0.784880\n",
       "2013-01-04 -1.618880  0.215280  0.514721  0.620356\n",
       "2013-01-05 -0.254342  0.014589 -0.369575  0.578745\n",
       "2013-01-06 -1.037881 -0.234445 -1.384228  0.772879"
      ]
     },
     "execution_count": 28,
     "metadata": {},
     "output_type": "execute_result"
    }
   ],
   "source": [
    "#selecting data based on conditions\n",
    "#using dataframe df\n",
    "df"
   ]
  },
  {
   "cell_type": "code",
   "execution_count": 47,
   "metadata": {},
   "outputs": [
    {
     "name": "stdout",
     "output_type": "stream",
     "text": [
      "\n",
      "First Condition\n",
      "                   A         B         C         D\n",
      "2013-01-01  0.706346  0.058741 -0.325617 -0.283842\n",
      "2013-01-02  1.464616  2.088079 -0.202424  0.354482\n",
      "\n",
      "Second Condition\n",
      "                   A         B         C         D\n",
      "2013-01-01  0.706346  0.058741 -0.325617 -0.283842\n",
      "2013-01-02  1.464616  2.088079 -0.202424  0.354482\n",
      "2013-01-04 -1.618880  0.215280  0.514721  0.620356\n",
      "2013-01-05 -0.254342  0.014589 -0.369575  0.578745\n",
      "\n",
      "Third Condition\n",
      "                   A         B         C         D\n",
      "2013-01-01  0.706346  0.058741 -0.325617 -0.283842\n",
      "2013-01-02  1.464616  2.088079 -0.202424  0.354482\n"
     ]
    }
   ],
   "source": [
    "print(\"\\n\"+\"First Condition\")\n",
    "print(df[df.A > 0 ]) #Condition column A has value more than 0\n",
    "# we use conditions with and,or etc\n",
    "print(\"\\n\"+\"Second Condition\")\n",
    "print(df[(df[\"A\"] >0) | (df[\"B\"] >0)])\n",
    "#We can also use query function \n",
    "print(\"\\n\"+\"Third Condition\")\n",
    "print(df.query('A>0 and B>0'))"
   ]
  },
  {
   "cell_type": "code",
   "execution_count": 55,
   "metadata": {},
   "outputs": [
    {
     "name": "stdout",
     "output_type": "stream",
     "text": [
      "                   A         B         C         D    E\n",
      "2013-01-01  0.706346  0.058741 -0.325617 -0.283842  1.0\n",
      "2013-01-02  1.464616  2.088079 -0.202424  0.354482  1.0\n",
      "2013-01-03 -0.343852 -0.173197 -0.553692 -0.784880  NaN\n",
      "2013-01-04 -1.618880  0.215280  0.514721  0.620356  NaN\n",
      "\n",
      "Output of isna\n",
      "                A      B      C      D      E\n",
      "2013-01-01  False  False  False  False  False\n",
      "2013-01-02  False  False  False  False  False\n",
      "2013-01-03  False  False  False  False   True\n",
      "2013-01-04  False  False  False  False   True\n",
      "Output of dropna\n",
      "                   A         B         C         D    E\n",
      "2013-01-01  0.706346  0.058741 -0.325617 -0.283842  1.0\n",
      "2013-01-02  1.464616  2.088079 -0.202424  0.354482  1.0\n",
      "Output od fillna\n",
      "                   A         B         C         D    E\n",
      "2013-01-01  0.706346  0.058741 -0.325617 -0.283842  1.0\n",
      "2013-01-02  1.464616  2.088079 -0.202424  0.354482  1.0\n",
      "2013-01-03 -0.343852 -0.173197 -0.553692 -0.784880  1.0\n",
      "2013-01-04 -1.618880  0.215280  0.514721  0.620356  1.0\n"
     ]
    }
   ],
   "source": [
    "#Working with missing data\n",
    "#creating a data frame\n",
    "df1 = df.reindex(index=dates[0:4], columns=list(df.columns) + ['E'])\n",
    "df1.loc[dates[0]:dates[1],'E'] = 1\n",
    "print(df1)\n",
    "#dealing with NAN\n",
    "#we can either replace with it with some value or remove rows with missing data\n",
    "#use dropna functions to drop rows with NaN Value\n",
    "#use fillna to fill the NaN with some value\n",
    "#use isna to check where the value as are\n",
    "print(\"\\n\"+\"Output of isna\")\n",
    "print(df1.isna())\n",
    "print(\"Output of dropna\")\n",
    "print(df1.dropna())\n",
    "print(\"Output od fillna\")\n",
    "print(df1.fillna(1))"
   ]
  },
  {
   "cell_type": "markdown",
   "metadata": {},
   "source": [
    "<h3>Join</h3>"
   ]
  },
  {
   "cell_type": "code",
   "execution_count": 57,
   "metadata": {},
   "outputs": [
    {
     "data": {
      "text/html": [
       "<div>\n",
       "<style scoped>\n",
       "    .dataframe tbody tr th:only-of-type {\n",
       "        vertical-align: middle;\n",
       "    }\n",
       "\n",
       "    .dataframe tbody tr th {\n",
       "        vertical-align: top;\n",
       "    }\n",
       "\n",
       "    .dataframe thead th {\n",
       "        text-align: right;\n",
       "    }\n",
       "</style>\n",
       "<table border=\"1\" class=\"dataframe\">\n",
       "  <thead>\n",
       "    <tr style=\"text-align: right;\">\n",
       "      <th></th>\n",
       "      <th>key</th>\n",
       "      <th>lval</th>\n",
       "      <th>rval</th>\n",
       "    </tr>\n",
       "  </thead>\n",
       "  <tbody>\n",
       "    <tr>\n",
       "      <th>0</th>\n",
       "      <td>foo</td>\n",
       "      <td>1</td>\n",
       "      <td>4</td>\n",
       "    </tr>\n",
       "    <tr>\n",
       "      <th>1</th>\n",
       "      <td>foo</td>\n",
       "      <td>1</td>\n",
       "      <td>5</td>\n",
       "    </tr>\n",
       "    <tr>\n",
       "      <th>2</th>\n",
       "      <td>foo</td>\n",
       "      <td>2</td>\n",
       "      <td>4</td>\n",
       "    </tr>\n",
       "    <tr>\n",
       "      <th>3</th>\n",
       "      <td>foo</td>\n",
       "      <td>2</td>\n",
       "      <td>5</td>\n",
       "    </tr>\n",
       "  </tbody>\n",
       "</table>\n",
       "</div>"
      ],
      "text/plain": [
       "   key  lval  rval\n",
       "0  foo     1     4\n",
       "1  foo     1     5\n",
       "2  foo     2     4\n",
       "3  foo     2     5"
      ]
     },
     "execution_count": 57,
     "metadata": {},
     "output_type": "execute_result"
    }
   ],
   "source": [
    "left = pd.DataFrame({'key': ['foo', 'foo'], 'lval': [1, 2]})\n",
    "right = pd.DataFrame({'key': ['foo', 'foo'], 'rval': [4, 5]})\n",
    "pd.merge(left, right, on='key') #use left_on and right_on when column names are different"
   ]
  },
  {
   "cell_type": "markdown",
   "metadata": {},
   "source": [
    "<h3>Grouping</h3>"
   ]
  },
  {
   "cell_type": "code",
   "execution_count": 59,
   "metadata": {},
   "outputs": [
    {
     "name": "stdout",
     "output_type": "stream",
     "text": [
      "            C         D\n",
      "A                      \n",
      "bar -2.014960  0.010579\n",
      "foo -3.627674  0.371548\n",
      "                  C         D\n",
      "A   B                        \n",
      "bar one   -0.783126  0.396037\n",
      "    three -1.179506  0.564112\n",
      "    two   -0.052328 -0.949571\n",
      "foo one   -1.680946  2.641811\n",
      "    three  0.034144 -0.148900\n",
      "    two   -1.980872 -2.121363\n"
     ]
    }
   ],
   "source": [
    "df = pd.DataFrame({'A' : ['foo', 'bar', 'foo', 'bar', 'foo', 'bar', 'foo', 'foo'],\n",
    "                    'B' : ['one', 'one', 'two', 'three','two', 'two', 'one', 'three'],'C' : np.random.randn(8),'D' : np.random.randn(8)})\n",
    "\n",
    "print(df.groupby('A').sum())\n",
    "print(df.groupby(['A','B']).sum())"
   ]
  },
  {
   "cell_type": "code",
   "execution_count": 60,
   "metadata": {},
   "outputs": [],
   "source": [
    "#Questions regarding Data Frames"
   ]
  },
  {
   "cell_type": "markdown",
   "metadata": {},
   "source": [
    "Question 1: Read a csv file in a data frame.(File_Name:= iris_data.csv)\n",
    "            \n",
    "        Perform the following.\n",
    "            1: Print the column names.\n",
    "            2: Print the first 10 rows in the dataframe.\n",
    "            3: Print the last 10 rows in the dataframe.  \n",
    "            4: Print the index of the dataframe."
   ]
  },
  {
   "cell_type": "code",
   "execution_count": 62,
   "metadata": {},
   "outputs": [],
   "source": [
    "#Solution"
   ]
  },
  {
   "cell_type": "markdown",
   "metadata": {},
   "source": [
    "Question 2: Read a csv file in a data frame.(Fila Name:- iris_data_1.csv)\n",
    "        \n",
    "        Perform the following.\n",
    "            1. Count the number of missing values in the dataframe.\n",
    "            2. Replace the missing values in a dataframe by taking input from user.\n",
    "            3. Extract Column 1 values and print it.\n",
    "            4. Get a summary of the dataframe."
   ]
  },
  {
   "cell_type": "code",
   "execution_count": null,
   "metadata": {},
   "outputs": [],
   "source": [
    "#Solution"
   ]
  },
  {
   "cell_type": "code",
   "execution_count": null,
   "metadata": {
    "scrolled": true
   },
   "outputs": [],
   "source": [
    "References- https://pandas.pydata.org/pandas-docs/stable/10min.html"
   ]
  }
 ],
 "metadata": {
  "kernelspec": {
   "display_name": "Python 3",
   "language": "python",
   "name": "python3"
  },
  "language_info": {
   "codemirror_mode": {
    "name": "ipython",
    "version": 3
   },
   "file_extension": ".py",
   "mimetype": "text/x-python",
   "name": "python",
   "nbconvert_exporter": "python",
   "pygments_lexer": "ipython3",
   "version": "3.5.2"
  }
 },
 "nbformat": 4,
 "nbformat_minor": 2
}
